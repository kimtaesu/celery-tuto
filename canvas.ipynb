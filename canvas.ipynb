{
 "cells": [
  {
   "cell_type": "markdown",
   "metadata": {
    "collapsed": true
   },
   "source": [
    "# Canvas: Designing Work-flows"
   ]
  },
  {
   "cell_type": "markdown",
   "metadata": {},
   "source": [
    "## Signatures"
   ]
  },
  {
   "cell_type": "markdown",
   "metadata": {},
   "source": [
    "You can create a signature for the add task using its name like this"
   ]
  },
  {
   "cell_type": "code",
   "execution_count": 3,
   "metadata": {},
   "outputs": [],
   "source": [
    "from celery import signature\n",
    "from tasks import add, hello, multi"
   ]
  },
  {
   "cell_type": "code",
   "execution_count": 4,
   "metadata": {},
   "outputs": [
    {
     "data": {
      "text/plain": [
       "tasks.add(2, 2)"
      ]
     },
     "execution_count": 4,
     "metadata": {},
     "output_type": "execute_result"
    }
   ],
   "source": [
    "signature('tasks.add', args=(2, 2), countdown=10)"
   ]
  },
  {
   "cell_type": "code",
   "execution_count": 5,
   "metadata": {},
   "outputs": [
    {
     "data": {
      "text/plain": [
       "tasks.add(2, 2)"
      ]
     },
     "execution_count": 5,
     "metadata": {},
     "output_type": "execute_result"
    }
   ],
   "source": [
    "add.signature((2, 2), countdown=10)"
   ]
  },
  {
   "cell_type": "code",
   "execution_count": 6,
   "metadata": {},
   "outputs": [
    {
     "data": {
      "text/plain": [
       "tasks.add(2, 2)"
      ]
     },
     "execution_count": 6,
     "metadata": {},
     "output_type": "execute_result"
    }
   ],
   "source": [
    "add.s(2, 2)"
   ]
  },
  {
   "cell_type": "code",
   "execution_count": 8,
   "metadata": {},
   "outputs": [
    {
     "data": {
      "text/plain": [
       "tasks.add(2, 2, debug=True)"
      ]
     },
     "execution_count": 8,
     "metadata": {},
     "output_type": "execute_result"
    }
   ],
   "source": [
    "add.s(2, 2, debug=True)"
   ]
  },
  {
   "cell_type": "code",
   "execution_count": 10,
   "metadata": {},
   "outputs": [
    {
     "data": {
      "text/plain": [
       "(2, 2)"
      ]
     },
     "execution_count": 10,
     "metadata": {},
     "output_type": "execute_result"
    }
   ],
   "source": [
    "s = add.signature((2, 2), {'debug': True}, countdown=10)\n",
    "s.args\n"
   ]
  },
  {
   "cell_type": "code",
   "execution_count": 11,
   "metadata": {},
   "outputs": [
    {
     "data": {
      "text/plain": [
       "{'debug': True}"
      ]
     },
     "execution_count": 11,
     "metadata": {},
     "output_type": "execute_result"
    }
   ],
   "source": [
    "s.kwargs"
   ]
  },
  {
   "cell_type": "code",
   "execution_count": 12,
   "metadata": {},
   "outputs": [
    {
     "data": {
      "text/plain": [
       "{'countdown': 10}"
      ]
     },
     "execution_count": 12,
     "metadata": {},
     "output_type": "execute_result"
    }
   ],
   "source": [
    "s.options"
   ]
  },
  {
   "cell_type": "markdown",
   "metadata": {},
   "source": [
    "### Calling API"
   ]
  },
  {
   "cell_type": "code",
   "execution_count": 14,
   "metadata": {},
   "outputs": [
    {
     "data": {
      "text/plain": [
       "4"
      ]
     },
     "execution_count": 14,
     "metadata": {},
     "output_type": "execute_result"
    }
   ],
   "source": [
    "add(2, 2)"
   ]
  },
  {
   "cell_type": "code",
   "execution_count": 16,
   "metadata": {},
   "outputs": [
    {
     "data": {
      "text/plain": [
       "4"
      ]
     },
     "execution_count": 16,
     "metadata": {},
     "output_type": "execute_result"
    }
   ],
   "source": [
    "add.s(2, 2)()"
   ]
  },
  {
   "cell_type": "code",
   "execution_count": 19,
   "metadata": {},
   "outputs": [
    {
     "data": {
      "text/plain": [
       "4"
      ]
     },
     "execution_count": 19,
     "metadata": {},
     "output_type": "execute_result"
    }
   ],
   "source": [
    "result = add.delay(2, 2)\n",
    "result.get()"
   ]
  },
  {
   "cell_type": "code",
   "execution_count": 21,
   "metadata": {},
   "outputs": [
    {
     "data": {
      "text/plain": [
       "tasks.add(2, 2)"
      ]
     },
     "execution_count": 21,
     "metadata": {},
     "output_type": "execute_result"
    }
   ],
   "source": [
    "add.s(2, 2).set(countdown=1)"
   ]
  },
  {
   "cell_type": "markdown",
   "metadata": {},
   "source": [
    "## Partials"
   ]
  },
  {
   "cell_type": "code",
   "execution_count": 23,
   "metadata": {},
   "outputs": [
    {
     "data": {
      "text/plain": [
       "<AsyncResult: 6d56e863-1e38-4c67-b211-99ab276b0dd5>"
      ]
     },
     "execution_count": 23,
     "metadata": {},
     "output_type": "execute_result"
    }
   ],
   "source": [
    "add.s(2, 2).delay()\n",
    "add.s(2, 2).apply_async(countdown=1)"
   ]
  },
  {
   "cell_type": "markdown",
   "metadata": {},
   "source": [
    "Signature을 사용하면 작업자에서 작업을 실행할 수 있습니다."
   ]
  },
  {
   "cell_type": "code",
   "execution_count": 24,
   "metadata": {},
   "outputs": [
    {
     "data": {
      "text/plain": [
       "4"
      ]
     },
     "execution_count": 24,
     "metadata": {},
     "output_type": "execute_result"
    }
   ],
   "source": [
    "add.s(2, 2)()"
   ]
  },
  {
   "cell_type": "markdown",
   "metadata": {},
   "source": [
    "또는 현재 프로세스에서 직접 호출 할 수 있습니다."
   ]
  },
  {
   "cell_type": "code",
   "execution_count": 27,
   "metadata": {},
   "outputs": [
    {
     "data": {
      "text/plain": [
       "<AsyncResult: d4ca7411-69ab-4559-aa4d-8695383ba9f5>"
      ]
     },
     "execution_count": 27,
     "metadata": {},
     "output_type": "execute_result"
    }
   ],
   "source": [
    "partial = add.s(2)          # incomplete signature\n",
    "partial.delay(4)            # 4 + 2\n",
    "partial.apply_async((4,))  # same"
   ]
  },
  {
   "cell_type": "markdown",
   "metadata": {},
   "source": [
    "추가 된 옵션은 서명의 옵션과 병합되며 새 옵션이 우선 적용됩니다."
   ]
  },
  {
   "cell_type": "code",
   "execution_count": 29,
   "metadata": {},
   "outputs": [
    {
     "data": {
      "text/plain": [
       "<AsyncResult: 74b5a6db-2b85-463a-966d-b83ab1e3a2f9>"
      ]
     },
     "execution_count": 29,
     "metadata": {},
     "output_type": "execute_result"
    }
   ],
   "source": [
    "s = add.signature((2, 2), countdown=10)\n",
    "s.apply_async(countdown=1)  # countdown is now 1"
   ]
  },
  {
   "cell_type": "markdown",
   "metadata": {},
   "source": [
    "Clone Signature"
   ]
  },
  {
   "cell_type": "code",
   "execution_count": 32,
   "metadata": {},
   "outputs": [
    {
     "data": {
      "text/plain": [
       "tasks.add(4, 2, debug=True)"
      ]
     },
     "execution_count": 32,
     "metadata": {},
     "output_type": "execute_result"
    }
   ],
   "source": [
    "s = add.s(2)\n",
    "s.clone(args=(4,), kwargs={'debug': True})"
   ]
  },
  {
   "cell_type": "markdown",
   "metadata": {},
   "source": [
    "## Immutability"
   ]
  },
  {
   "cell_type": "markdown",
   "metadata": {},
   "source": [
    "Partials 은 콜백, 연결된 모든 작업과 함께 사용하기 위한것이거나 코드 콜백이 부모 작업의 결과와 함께 적용됩니다.\n",
    "때로는 추가 인수를 취하지 않는 콜백을 지정하기를 원합니다.이 경우 시그니처를 불변으로 설정할 수 있습니다."
   ]
  },
  {
   "cell_type": "code",
   "execution_count": 36,
   "metadata": {},
   "outputs": [
    {
     "data": {
      "text/plain": [
       "<AsyncResult: a9638092-4015-4182-9d0c-9fd584ec91ed>"
      ]
     },
     "execution_count": 36,
     "metadata": {},
     "output_type": "execute_result"
    }
   ],
   "source": [
    "add.apply_async((2, 2), link=hello.signature(immutable=True))"
   ]
  },
  {
   "cell_type": "markdown",
   "metadata": {},
   "source": [
    "**.si()**  shortcut \n",
    "immutable signatures:"
   ]
  },
  {
   "cell_type": "code",
   "execution_count": 38,
   "metadata": {},
   "outputs": [
    {
     "data": {
      "text/plain": [
       "<AsyncResult: 4a5c16f4-7997-412c-ac06-4e680e6ed8fb>"
      ]
     },
     "execution_count": 38,
     "metadata": {},
     "output_type": "execute_result"
    }
   ],
   "source": [
    "add.apply_async((2, 2), link=hello.si())"
   ]
  },
  {
   "cell_type": "markdown",
   "metadata": {},
   "source": [
    "### Callbacks\n",
    "apply_async에 link 인수를 사용하여 모든 작업에 콜백을 추가 할 수 있습니다."
   ]
  },
  {
   "cell_type": "code",
   "execution_count": 39,
   "metadata": {},
   "outputs": [
    {
     "data": {
      "text/plain": [
       "<AsyncResult: 8d8772cc-f239-4102-a601-b4906e3f39ce>"
      ]
     },
     "execution_count": 39,
     "metadata": {},
     "output_type": "execute_result"
    }
   ],
   "source": [
    "add.apply_async((2, 2), link=hello.s())"
   ]
  },
  {
   "cell_type": "markdown",
   "metadata": {},
   "source": [
    "콜백은 작업이 성공적으로 종료 된 경우에만 적용되며 부모 작업의 반환 값이 인수로 적용됩니다.\n",
    "앞서 언급했듯이 Signature에 추가하는 인수는 Signature 자체에 지정된 인수 앞에 추가됩니다!"
   ]
  },
  {
   "cell_type": "code",
   "execution_count": 41,
   "metadata": {},
   "outputs": [],
   "source": [
    "sig = add.s(10)"
   ]
  },
  {
   "cell_type": "code",
   "execution_count": 43,
   "metadata": {},
   "outputs": [
    {
     "data": {
      "text/plain": [
       "4"
      ]
     },
     "execution_count": 43,
     "metadata": {},
     "output_type": "execute_result"
    }
   ],
   "source": [
    "result = add.apply_async((2, 2), link=add.s(8))\n",
    "result.get()"
   ]
  },
  {
   "cell_type": "markdown",
   "metadata": {},
   "source": [
    "\n",
    " first : 2 + 2\n",
    "\n",
    " second : 4 + 8"
   ]
  },
  {
   "cell_type": "markdown",
   "metadata": {},
   "source": [
    "## The Primitives\n",
    "\n",
    "* group\n",
    "그룹 프리미티브는 병렬로 적용해야하는 작업 목록을 취하는 서명입니다.\n",
    "\n",
    "* chain\n",
    "체인 프리미티브는 서명을 서로 연결하여 하나가 다른 하나 뒤에 호출되도록하며 본질적으로 콜백 체인을 형성합니다.\n",
    "\n",
    "* chord\n",
    "chord는 그룹과 비슷하지만 콜백이 있습니다. chord는 헤더 그룹과 본문으로 구성되며, 본문은 헤더의 모든 작업이 완료된 후에 실행해야하는 작업입니다.\n",
    "\n",
    "* map\n",
    "맵 기본값은 내장 맵 함수와 같이 작동하지만 인수 목록이 작업에 적용되는 임시 작업을 만듭니다.\n",
    "task.map ([1, 2]) - 단일 작업이 호출되어 결과가 다음과 같이 작업 함수에 인수를 적용합니다.\n",
    "```\n",
    "res = [task(1), task(2)]\n",
    "```\n",
    "\n",
    "* starmap\n",
    "인수가 args로 적용되는 것을 제외하고는 맵과 정확히 비슷합니다. 예를 들어 add.starmap ([(2, 2)), (4, 4)])는 단일 작업 호출을 발생시킵니다.\n",
    "```\n",
    "res = [add(2, 2), add(4, 4)]\n",
    "```\n",
    "\n",
    "* chunks\n",
    "Chunking은 긴 인수 목록을 부분으로 나눕니다. \n",
    "```\n",
    "items = zip(xrange(1000), xrange(1000))  # 1000 items\n",
    "add.chunks(items, 10)\n",
    "```\n",
    "항목 목록을 10 개의 청크로 분할하여 100 개의 작업 (각 항목을 순서대로 처리)을 수행합니다."
   ]
  },
  {
   "cell_type": "markdown",
   "metadata": {},
   "source": [
    "### Chain\n",
    "Simple chain"
   ]
  },
  {
   "cell_type": "code",
   "execution_count": 46,
   "metadata": {},
   "outputs": [
    {
     "data": {
      "text/plain": [
       "4"
      ]
     },
     "execution_count": 46,
     "metadata": {},
     "output_type": "execute_result"
    }
   ],
   "source": [
    "from tasks import add, multi\n",
    "\n",
    "res = add.apply_async((2, 2), link=multi.s(16))\n",
    "res.get()\n",
    "# result in mul(4, 16)"
   ]
  },
  {
   "cell_type": "code",
   "execution_count": 47,
   "metadata": {},
   "outputs": [
    {
     "data": {
      "text/plain": [
       "64"
      ]
     },
     "execution_count": 47,
     "metadata": {},
     "output_type": "execute_result"
    }
   ],
   "source": [
    "res.children\n",
    "res.children[0].get()"
   ]
  },
  {
   "cell_type": "markdown",
   "metadata": {},
   "source": [
    "결과는 원래 작업에서 호출된 하위 작업을 추적하며 결과 인스턴스에서 액세스할 수 있습니다."
   ]
  },
  {
   "cell_type": "code",
   "execution_count": 48,
   "metadata": {},
   "outputs": [
    {
     "data": {
      "text/plain": [
       "[(<AsyncResult: eedd8a29-a7bd-4050-ac69-f7340f426499>, 4),\n (<AsyncResult: a520cae4-8646-41ca-ad6b-4e5f46953d48>, 64)]"
      ]
     },
     "execution_count": 48,
     "metadata": {},
     "output_type": "execute_result"
    }
   ],
   "source": [
    "list(res.collect())"
   ]
  },
  {
   "cell_type": "markdown",
   "metadata": {},
   "source": [
    "결과 인스턴스에는 결과를 그래프로 처리하는 collect() 방법이 있으므로 결과를 반복할 수 있습니다."
   ]
  },
  {
   "cell_type": "code",
   "execution_count": 49,
   "metadata": {},
   "outputs": [
    {
     "data": {
      "text/plain": [
       "tasks.multi()"
      ]
     },
     "execution_count": 49,
     "metadata": {},
     "output_type": "execute_result"
    }
   ],
   "source": [
    "s = add.s(2, 2)\n",
    "s.link(multi.s(4))\n",
    "s.link(multi.s())"
   ]
  },
  {
   "cell_type": "code",
   "execution_count": 50,
   "metadata": {},
   "outputs": [
    {
     "data": {
      "text/plain": [
       "<AsyncResult: 071ad126-5e7c-4735-9751-971a3c882fe6>"
      ]
     },
     "execution_count": 50,
     "metadata": {},
     "output_type": "execute_result"
    }
   ],
   "source": [
    "# error callbacks \n",
    "from tasks import add, log_error\n",
    "add.s(2, 2).on_error(log_error.s()).delay()\n",
    "add.apply_async((2, 2), link_error=log_error.s())"
   ]
  },
  {
   "cell_type": "code",
   "execution_count": 51,
   "metadata": {},
   "outputs": [
    {
     "name": "stdout",
     "output_type": "stream",
     "text": [
      "640\n"
     ]
    }
   ],
   "source": [
    "from celery import chain\n",
    "from tasks import multi\n",
    "res = chain(add.s(4, 4), multi.s(8), multi.s(10))()\n",
    "print(res.get())"
   ]
  },
  {
   "cell_type": "code",
   "execution_count": 52,
   "metadata": {},
   "outputs": [
    {
     "data": {
      "text/plain": [
       "64"
      ]
     },
     "execution_count": 52,
     "metadata": {},
     "output_type": "execute_result"
    }
   ],
   "source": [
    "res.parent.get()"
   ]
  },
  {
   "cell_type": "code",
   "execution_count": 53,
   "metadata": {},
   "outputs": [
    {
     "data": {
      "text/plain": [
       "8"
      ]
     },
     "execution_count": 53,
     "metadata": {},
     "output_type": "execute_result"
    }
   ],
   "source": [
    "res.parent.parent.get()"
   ]
  },
  {
   "cell_type": "code",
   "execution_count": 54,
   "metadata": {},
   "outputs": [
    {
     "name": "stdout",
     "output_type": "stream",
     "text": [
      "320\n"
     ]
    }
   ],
   "source": [
    "# pipe operator\n",
    "res = (add.s(2, 2) | multi.s(8) | multi.s(10)).apply_async()\n",
    "print(res.get())"
   ]
  },
  {
   "cell_type": "markdown",
   "metadata": {},
   "source": [
    "## Graphs"
   ]
  },
  {
   "cell_type": "code",
   "execution_count": 55,
   "metadata": {},
   "outputs": [],
   "source": [
    "with open('graph.dot', 'w') as fh:\n",
    "    res.parent.parent.graph.to_dot(fh)"
   ]
  },
  {
   "cell_type": "markdown",
   "metadata": {},
   "source": [
    "```python\n",
    "with open('graph.dot', 'w') as fh:\n",
    "\tres.parent.parent.graph.to_dot(fh)\n",
    "```\n",
    "generated graph.dot "
   ]
  },
  {
   "cell_type": "markdown",
   "metadata": {},
   "source": [
    "## Groups"
   ]
  },
  {
   "cell_type": "code",
   "execution_count": 56,
   "metadata": {},
   "outputs": [
    {
     "data": {
      "text/plain": [
       "group((tasks.add(2, 2), add(4, 4)))"
      ]
     },
     "execution_count": 56,
     "metadata": {},
     "output_type": "execute_result"
    }
   ],
   "source": [
    "from celery import group\n",
    "group(add.s(2, 2), add.s(4, 4))"
   ]
  },
  {
   "cell_type": "code",
   "execution_count": 57,
   "metadata": {},
   "outputs": [
    {
     "data": {
      "text/plain": [
       "[4, 8]"
      ]
     },
     "execution_count": 57,
     "metadata": {},
     "output_type": "execute_result"
    }
   ],
   "source": [
    "g = group(add.s(2, 2), add.s(4, 4))\n",
    "res = g()\n",
    "res.get()"
   ]
  },
  {
   "cell_type": "code",
   "execution_count": 60,
   "metadata": {},
   "outputs": [
    {
     "data": {
      "text/plain": [
       "<GroupResult: 692ead43-f148-4a0a-bda5-700e3b7a348c [1030a8d0-f107-4634-919c-5c57c6e7542c, 3ed2d630-234f-498d-98d0-b6381113aaec, 39678c4e-d0cd-4ee9-a5c7-d4d1dc2cbe1d, 6d0c6c12-b780-4ab9-bd80-c798b6e52e1a, 3a2ea61a-c10f-4739-92de-434c321bca97, 125059ff-cb16-410c-9e85-3e46e5dc5492, 876a23c2-c7d6-4fe2-a055-76946313be66, 0b9b4f17-5b59-461f-8e63-61fc5e1253b4, 24e5c58b-cdd1-489a-b904-6a0df640eef8, d3f2bc9e-7922-42d1-906d-e263dd99bc20, 787e625a-ed8d-4de5-ae59-4709464a1ed5, 1c75957a-b60e-4f63-9a16-637a5dbb798b, 7473197a-721e-4fe9-9d1f-7709edfb2504, 7b23dfde-8f49-48f2-af51-0d86a208e889, adeca925-854c-4876-b3d9-ff17ac085d3f, 019db95c-161c-4469-bb38-5cf7ce1e050c, 5f6902db-b126-43cd-af8e-f29f51393dd5, aa019bcc-821b-40c9-bcfc-67b41a7553f6, 16305904-c53f-4ceb-9c45-1d7ca513b8bc, b56fa7a5-29b7-437c-96d8-38acf44586d4, 071b10e3-96e3-4c5d-b38b-195081cf6c79, 276d9f47-bc45-4f7d-a23c-c6b7e0516a9c, 8662bbaf-6400-4a9f-94a8-9bce0c06399a, ad8c67e5-92b9-4059-aa88-84ee8d777e62, 1de36b33-a833-4b91-a543-a69105a82bd6, f8d95d27-51b1-4c7d-a0ff-6a52ab6af1e0, d0c00854-424a-4eab-a0f7-c79672c66497, d4aa7f52-34ee-4ed6-8f90-7b018828dd56, f5fddefb-3058-4208-87f9-f6a2d2280d92, 1aa91133-fb9e-4bfe-b629-500aed667157, b4a16855-8188-47f7-a2d7-a6a9ea77b61f, eaf80555-b799-451e-bb87-1b0dc1902e8c, 4ecb5984-c76f-47d9-b92c-c6321bd21bfa, 8a99c6c6-3d8e-4458-8cc3-5e2966d85a05, 5f070052-49f0-4b63-982f-78c28c889f2e, 1192404e-6b4a-4425-99a6-57f3891406e9, 9e74832d-a683-416e-bbf5-72f51fa9394b, 00e0e235-87d0-44ee-a510-747e3a242b18, 91d2f6a0-fc90-4bac-a716-f6df3cd06d68, eb6da1d6-a713-4077-a8d5-5e7e405c1821, a6751ca8-fed0-4884-b2ec-9287ae4caf4e, 9f2c9deb-34a5-40a1-abbc-50ba58d90574, ae7c89c6-c8f4-4412-b3c3-0f757a4a30f2, 743fdca9-8878-4750-acad-99a6b4b28aa6, 2e358b7a-23e5-46a5-8235-0509f27e8c2e, 6a7bfc04-0f3c-4b60-a1f3-e0a61f62d308, a55403b9-f5f7-4769-a38a-171d58d784ce, ed6f17ee-4dad-4b0d-abf9-8911c084d753, ae8252bb-c386-482d-a03c-5818fa0b8134, 3170f191-92bd-4dab-8a95-0de3b5d9fb2a, b7b7cfdf-2676-4314-afb1-2eeb9c5f5919, b92afa0a-ec25-4523-999f-b2a5bfc5f7b6, 16109839-c95a-4c72-95f1-1d27681dfc96, 5337c406-1d79-4736-8a19-0b39aa7f19b8, 56c7dee8-049f-469b-804c-62b5cae6077d, 65ba5a73-e86d-46ac-8265-862d7bdef49f, 02b85c0b-6dc3-4717-9ee7-1d0ba370b1e3, 61fb02dd-56aa-4e88-a5a3-ff94fa342683, 41989b84-9554-4ab0-aa15-b0db19b9bb4c, 0ba5971c-a5be-45c8-b6e7-ed63ebca19bc, 0334598d-8b2b-4656-88a9-e169b71ead46, 6200a7a3-da91-4b06-8caa-e94ecb50e6c5, 40af32e5-5ac6-4328-9b8f-bbbe3983cef4, 0f6ff426-5628-411e-9b0c-1593714af516, 8910ebce-21dc-4ead-83e2-e8176bbd5f20, 4902fb7b-b907-44ab-9145-d8a67cc1daf4, f0044e19-c042-454e-9fa7-e77934b9f0a9, 54c65280-d1bf-432f-9e92-3feec6896ae6, 5cefb95e-0107-4284-af65-4221917a94ec, 034081c3-0dc0-4228-9576-a9dd006d95eb, 6c7f9a2e-33e5-4f4d-8f27-e138b99b085d, 94b3e94c-0661-4c59-b3b4-50335269d5a4, b7243c51-c71e-476a-9ed4-c46d1b29b608, ed443e81-fe14-40b0-99c6-b4bcbf515186, e9d85e2e-314e-4560-8733-4207afeb91c3, 00743352-36eb-4152-a4a4-d7fa74e9e615, 910983c0-975f-4a5b-847f-6c60d47a10cb, 68235cd8-d34b-4980-aae7-f58de6b72a55, 15b39dd5-be6f-4135-b2e8-14f31a8d927b, 27e46efe-a7fd-4fb9-a31f-a9da0025288c, 0ba3898e-e0f1-4957-903b-98fc0f0a2cdf, 9995d7fa-0c84-4e5d-9238-69f6fe51b291, 6b3e2acc-7ca4-4522-9b1c-aebfafc5bdc4, b03feeed-bd43-4825-8abe-e3b06a66f7dd, d8e6f7e1-3281-4cdf-87bb-75ce8f07239f, bce1394f-e358-4ff6-9935-a4403cc316d8, d7d5f882-8d99-40cc-a761-b38fb6d57ab8, 0c77ddf3-ffb2-46b0-ad20-795ca488ae23, a548d268-33b0-4079-9d17-87ff1a5ebc8e, 0937ae34-cde1-44c4-9869-5512adc4d39c, 6d865479-4968-4bc4-af3a-7f22fd19e59c, d878cf59-b392-4a05-aa80-e3a5024b283e, 8730a5df-cb2e-4c18-ab9b-3fa4c79de532, 51a3fa1d-dc43-46a4-bb7d-e2ef0421c587, 36cb777c-c187-4ec8-96c4-eb36dbf92920, 7d561ec1-8f2b-4268-9de1-566985a16736, 3ef2a98c-c786-4183-a3b1-c14be0578cc1, 3972c8e6-aad1-498e-8670-9df645ea622e, 3c3d2643-1fab-4db9-9bb8-539be9e6296d, 8b1d48c9-9acd-4668-bf54-ef2f6721d9ed]>"
      ]
     },
     "execution_count": 60,
     "metadata": {},
     "output_type": "execute_result"
    }
   ],
   "source": [
    "# iterators \n",
    "group(add.s(i, i) for i in range(100))()"
   ]
  },
  {
   "cell_type": "markdown",
   "metadata": {},
   "source": [
    "## Group Results"
   ]
  },
  {
   "cell_type": "code",
   "execution_count": 67,
   "metadata": {},
   "outputs": [
    {
     "data": {
      "text/plain": [
       "False"
      ]
     },
     "execution_count": 67,
     "metadata": {},
     "output_type": "execute_result"
    }
   ],
   "source": [
    "\n",
    "job = group([add.s(2, 2), add.s(4, 4), add.s(8, 8), add.s(16, 16), add.s(32, 32),]).apply_async()\n",
    "job.ready()  # have all subtasks completed?"
   ]
  },
  {
   "cell_type": "code",
   "execution_count": 68,
   "metadata": {},
   "outputs": [
    {
     "data": {
      "text/plain": [
       "True"
      ]
     },
     "execution_count": 68,
     "metadata": {},
     "output_type": "execute_result"
    }
   ],
   "source": [
    "job.successful() # were all subtasks successful?"
   ]
  },
  {
   "cell_type": "code",
   "execution_count": 76,
   "metadata": {},
   "outputs": [
    {
     "data": {
      "text/plain": [
       "[4, 8, 16, 32, 64]"
      ]
     },
     "execution_count": 76,
     "metadata": {},
     "output_type": "execute_result"
    }
   ],
   "source": [
    "job.get()"
   ]
  },
  {
   "cell_type": "markdown",
   "metadata": {},
   "source": [
    "successful()\n",
    "\tReturn True if all of the subtasks finished successfully (e.g., didn’t raise an exception).\n",
    "\n",
    "failed()\n",
    "\tReturn True if any of the subtasks failed.\n",
    "\n",
    "waiting()\n",
    "\tReturn True if any of the subtasks isn’t ready yet.\n",
    "\n",
    "ready()\n",
    "\tReturn True if all of the subtasks are ready.\n",
    "\n",
    "completed_count()\n",
    "\tReturn the number of completed subtasks.\n",
    "\n",
    "revoke()\n",
    "\tRevoke all of the subtasks.\n",
    "\n",
    "join()\n",
    "\tGather the results of all subtasks and return them in the same order as they were called (as a list)."
   ]
  },
  {
   "cell_type": "markdown",
   "metadata": {},
   "source": [
    "## Chords"
   ]
  },
  {
   "cell_type": "code",
   "execution_count": 2,
   "metadata": {},
   "outputs": [],
   "source": [
    "from celery import chord\n",
    "from tasks import add,  tsum"
   ]
  },
  {
   "cell_type": "code",
   "execution_count": 5,
   "metadata": {},
   "outputs": [
    {
     "data": {
      "text/plain": [
       "9900"
      ]
     },
     "execution_count": 5,
     "metadata": {},
     "output_type": "execute_result"
    }
   ],
   "source": [
    "chord(add.s(i, i) for i in range(100))(tsum.s()).get()"
   ]
  },
  {
   "cell_type": "markdown",
   "metadata": {},
   "source": [
    "코드 표현식을 분해 해 봅시다."
   ]
  },
  {
   "cell_type": "code",
   "execution_count": 8,
   "metadata": {},
   "outputs": [
    {
     "data": {
      "text/plain": [
       "9900"
      ]
     },
     "execution_count": 8,
     "metadata": {},
     "output_type": "execute_result"
    }
   ],
   "source": [
    "sum(i + i for i in range(100))\n",
    "callback = tsum.s()\n",
    "header = [add.s(i, i) for i in range(100)]\n",
    "result = chord(header)(callback)\n",
    "result.get()"
   ]
  },
  {
   "cell_type": "markdown",
   "metadata": {},
   "source": [
    "## Error handling\n",
    "\n",
    "chord 콜백 결과는 실패 상태로 전환되고 오류는 ChordError 예외로 설정됩니다."
   ]
  },
  {
   "cell_type": "code",
   "execution_count": 7,
   "metadata": {},
   "outputs": [],
   "source": [
    "\n",
    "from celery import chord, group\n",
    "from tasks import add, throw, log_result, on_chord_error\n",
    "c = chord([add.s(4, 4), throw.s(), add.s(8, 8)])"
   ]
  },
  {
   "cell_type": "code",
   "execution_count": 8,
   "metadata": {},
   "outputs": [],
   "source": [
    "c = (group(add.s(i, i) for i in range(10)) | log_result.s().on_error(on_chord_error.s())).delay()"
   ]
  },
  {
   "cell_type": "markdown",
   "metadata": {},
   "source": [
    "## Important Notes\n",
    "chord 내에서 사용되는 작업은 결과를 무시해서는 안됩니다. 실제로 이것은 코드를 사용하려면 **result_backend**를 사용하도록 설정해야 함을 의미합니다. \n",
    "또한 task_ignore_result가 구성에서 True로 설정되면 코드 내에서 사용할 개별 작업은 ignore_result=False 로 정의되어야 합니다. 이것은 작업 하위 클래스와 장식된 작업에 모두 적용됩니다."
   ]
  },
  {
   "cell_type": "markdown",
   "metadata": {},
   "source": [
    "## Map & Starmap"
   ]
  },
  {
   "cell_type": "code",
   "execution_count": 19,
   "metadata": {},
   "outputs": [
    {
     "data": {
      "text/plain": [
       "[0, 2, 4, 6, 8, 10, 12, 14, 16, 18]"
      ]
     },
     "execution_count": 19,
     "metadata": {},
     "output_type": "execute_result"
    }
   ],
   "source": [
    "# using Map\n",
    "# ~add.map([range(10), range(100)])\n",
    "\n",
    "# using starmap:\n",
    "~add.starmap(zip(range(10), range(10)))"
   ]
  },
  {
   "cell_type": "code",
   "execution_count": 22,
   "metadata": {},
   "outputs": [
    {
     "data": {
      "text/plain": [
       "[0, 2, 4, 6, 8, 10, 12, 14, 16, 18]"
      ]
     },
     "execution_count": 22,
     "metadata": {},
     "output_type": "execute_result"
    }
   ],
   "source": [
    "add.starmap(zip(range(10), range(10))).apply_async().get()"
   ]
  },
  {
   "cell_type": "markdown",
   "metadata": {},
   "source": [
    "## Chunks"
   ]
  },
  {
   "cell_type": "code",
   "execution_count": 24,
   "metadata": {},
   "outputs": [
    {
     "data": {
      "text/plain": [
       "[[0, 2, 4, 6, 8, 10, 12, 14, 16, 18],\n [20, 22, 24, 26, 28, 30, 32, 34, 36, 38],\n [40, 42, 44, 46, 48, 50, 52, 54, 56, 58],\n [60, 62, 64, 66, 68, 70, 72, 74, 76, 78],\n [80, 82, 84, 86, 88, 90, 92, 94, 96, 98],\n [100, 102, 104, 106, 108, 110, 112, 114, 116, 118],\n [120, 122, 124, 126, 128, 130, 132, 134, 136, 138],\n [140, 142, 144, 146, 148, 150, 152, 154, 156, 158],\n [160, 162, 164, 166, 168, 170, 172, 174, 176, 178],\n [180, 182, 184, 186, 188, 190, 192, 194, 196, 198]]"
      ]
     },
     "execution_count": 24,
     "metadata": {},
     "output_type": "execute_result"
    }
   ],
   "source": [
    "res = add.chunks(zip(range(100), range(100)), 10)()\n",
    "res.get()"
   ]
  },
  {
   "cell_type": "code",
   "execution_count": null,
   "metadata": {},
   "outputs": [],
   "source": []
  }
 ],
 "metadata": {
  "kernelspec": {
   "display_name": "Python 2",
   "language": "python",
   "name": "python2"
  },
  "language_info": {
   "codemirror_mode": {
    "name": "ipython",
    "version": 2
   },
   "file_extension": ".py",
   "mimetype": "text/x-python",
   "name": "python",
   "nbconvert_exporter": "python",
   "pygments_lexer": "ipython2",
   "version": "2.7.6"
  }
 },
 "nbformat": 4,
 "nbformat_minor": 0
}
